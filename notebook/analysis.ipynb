{
 "cells": [
  {
   "cell_type": "markdown",
   "metadata": {},
   "source": [
    "# Importing Necessary Libraries"
   ]
  },
  {
   "cell_type": "code",
   "execution_count": 2,
   "metadata": {},
   "outputs": [],
   "source": [
    "# OS and Warning files\n",
    "import os\n",
    "os.environ['KMP_DUPLICATE_LIB_OK']='True'\n",
    "import warnings\n",
    "warnings.filterwarnings(\"ignore\")\n",
    "\n",
    "# Analysis Libraries\n",
    "import pandas as pd\n",
    "import numpy as np\n",
    "import xgboost\n",
    "from sklearn import metrics\n",
    "from sklearn import preprocessing\n",
    "from sklearn import model_selection\n",
    "from sklearn.model_selection import train_test_split\n",
    "from sklearn import svm, tree, ensemble, neighbors, linear_model\n",
    "from sklearn.metrics import accuracy_score, mean_squared_error, roc_curve, roc_auc_score, make_scorer\n",
    "from sklearn.model_selection import GridSearchCV\n",
    "\n",
    "# Visualization Library\n",
    "import matplotlib.pyplot as plt\n",
    "from matplotlib.ticker import FuncFormatter\n",
    "import seaborn as sns\n",
    "import plotly\n",
    "import plotly.plotly as py\n",
    "import plotly.graph_objs as go\n",
    "from sklearn.externals.six import StringIO  \n",
    "from IPython.display import Image  \n",
    "from sklearn.tree import export_graphviz\n",
    "import pydotplus\n",
    "\n",
    "%matplotlib inline"
   ]
  },
  {
   "cell_type": "code",
   "execution_count": 3,
   "metadata": {},
   "outputs": [],
   "source": [
    "# plotly.tools.set_credentials_file(username='neelrast', api_key='tH7Ty1sAOwl8O3JnfLmf')"
   ]
  },
  {
   "cell_type": "markdown",
   "metadata": {},
   "source": [
    "# Import RL Data"
   ]
  },
  {
   "cell_type": "code",
   "execution_count": 4,
   "metadata": {},
   "outputs": [
    {
     "data": {
      "text/html": [
       "<div>\n",
       "<style scoped>\n",
       "    .dataframe tbody tr th:only-of-type {\n",
       "        vertical-align: middle;\n",
       "    }\n",
       "\n",
       "    .dataframe tbody tr th {\n",
       "        vertical-align: top;\n",
       "    }\n",
       "\n",
       "    .dataframe thead th {\n",
       "        text-align: right;\n",
       "    }\n",
       "</style>\n",
       "<table border=\"1\" class=\"dataframe\">\n",
       "  <thead>\n",
       "    <tr style=\"text-align: right;\">\n",
       "      <th></th>\n",
       "      <th>storm_names</th>\n",
       "      <th>eff_land_sp</th>\n",
       "      <th>direct</th>\n",
       "      <th>angled</th>\n",
       "      <th>cross</th>\n",
       "      <th>press_mbars</th>\n",
       "      <th>max_sust_winds_kts</th>\n",
       "      <th>storm_surge</th>\n",
       "      <th>storm_tide</th>\n",
       "      <th>moon_phase</th>\n",
       "      <th>low_neap</th>\n",
       "      <th>high_neap</th>\n",
       "      <th>high_ebb</th>\n",
       "      <th>high_tide_line</th>\n",
       "      <th>low_tide_line</th>\n",
       "      <th>norm_cost</th>\n",
       "      <th>cost_category</th>\n",
       "    </tr>\n",
       "  </thead>\n",
       "  <tbody>\n",
       "    <tr>\n",
       "      <th>0</th>\n",
       "      <td>Bob</td>\n",
       "      <td>15.005262</td>\n",
       "      <td>0</td>\n",
       "      <td>1</td>\n",
       "      <td>0</td>\n",
       "      <td>1003</td>\n",
       "      <td>65</td>\n",
       "      <td>0.0</td>\n",
       "      <td>0.0</td>\n",
       "      <td>7</td>\n",
       "      <td>0</td>\n",
       "      <td>1</td>\n",
       "      <td>0</td>\n",
       "      <td>7.5</td>\n",
       "      <td>-0.6</td>\n",
       "      <td>5.963532e+05</td>\n",
       "      <td>moderate</td>\n",
       "    </tr>\n",
       "    <tr>\n",
       "      <th>1</th>\n",
       "      <td>Danny</td>\n",
       "      <td>12.080622</td>\n",
       "      <td>1</td>\n",
       "      <td>0</td>\n",
       "      <td>0</td>\n",
       "      <td>987</td>\n",
       "      <td>80</td>\n",
       "      <td>0.0</td>\n",
       "      <td>8.0</td>\n",
       "      <td>27</td>\n",
       "      <td>0</td>\n",
       "      <td>0</td>\n",
       "      <td>0</td>\n",
       "      <td>1.9</td>\n",
       "      <td>-0.4</td>\n",
       "      <td>1.250277e+06</td>\n",
       "      <td>high</td>\n",
       "    </tr>\n",
       "    <tr>\n",
       "      <th>2</th>\n",
       "      <td>Elena</td>\n",
       "      <td>19.448238</td>\n",
       "      <td>0</td>\n",
       "      <td>1</td>\n",
       "      <td>0</td>\n",
       "      <td>959</td>\n",
       "      <td>100</td>\n",
       "      <td>10.0</td>\n",
       "      <td>0.0</td>\n",
       "      <td>16</td>\n",
       "      <td>0</td>\n",
       "      <td>1</td>\n",
       "      <td>0</td>\n",
       "      <td>1.4</td>\n",
       "      <td>1.0</td>\n",
       "      <td>3.320953e+07</td>\n",
       "      <td>severe</td>\n",
       "    </tr>\n",
       "    <tr>\n",
       "      <th>3</th>\n",
       "      <td>Gloria</td>\n",
       "      <td>31.092933</td>\n",
       "      <td>0</td>\n",
       "      <td>0</td>\n",
       "      <td>0</td>\n",
       "      <td>942</td>\n",
       "      <td>90</td>\n",
       "      <td>0.0</td>\n",
       "      <td>0.0</td>\n",
       "      <td>12</td>\n",
       "      <td>1</td>\n",
       "      <td>0</td>\n",
       "      <td>0</td>\n",
       "      <td>1.3</td>\n",
       "      <td>0.3</td>\n",
       "      <td>0.000000e+00</td>\n",
       "      <td>minimal</td>\n",
       "    </tr>\n",
       "    <tr>\n",
       "      <th>4</th>\n",
       "      <td>Gloria</td>\n",
       "      <td>45.238814</td>\n",
       "      <td>0</td>\n",
       "      <td>1</td>\n",
       "      <td>0</td>\n",
       "      <td>961</td>\n",
       "      <td>75</td>\n",
       "      <td>0.0</td>\n",
       "      <td>0.0</td>\n",
       "      <td>12</td>\n",
       "      <td>0</td>\n",
       "      <td>0</td>\n",
       "      <td>0</td>\n",
       "      <td>3.0</td>\n",
       "      <td>0.2</td>\n",
       "      <td>0.000000e+00</td>\n",
       "      <td>minimal</td>\n",
       "    </tr>\n",
       "  </tbody>\n",
       "</table>\n",
       "</div>"
      ],
      "text/plain": [
       "  storm_names  eff_land_sp  direct  angled  cross  press_mbars  \\\n",
       "0         Bob    15.005262       0       1      0         1003   \n",
       "1       Danny    12.080622       1       0      0          987   \n",
       "2       Elena    19.448238       0       1      0          959   \n",
       "3      Gloria    31.092933       0       0      0          942   \n",
       "4      Gloria    45.238814       0       1      0          961   \n",
       "\n",
       "   max_sust_winds_kts  storm_surge  storm_tide  moon_phase  low_neap  \\\n",
       "0                  65          0.0         0.0           7         0   \n",
       "1                  80          0.0         8.0          27         0   \n",
       "2                 100         10.0         0.0          16         0   \n",
       "3                  90          0.0         0.0          12         1   \n",
       "4                  75          0.0         0.0          12         0   \n",
       "\n",
       "   high_neap  high_ebb  high_tide_line  low_tide_line     norm_cost  \\\n",
       "0          1         0             7.5           -0.6  5.963532e+05   \n",
       "1          0         0             1.9           -0.4  1.250277e+06   \n",
       "2          1         0             1.4            1.0  3.320953e+07   \n",
       "3          0         0             1.3            0.3  0.000000e+00   \n",
       "4          0         0             3.0            0.2  0.000000e+00   \n",
       "\n",
       "  cost_category  \n",
       "0      moderate  \n",
       "1          high  \n",
       "2        severe  \n",
       "3       minimal  \n",
       "4       minimal  "
      ]
     },
     "execution_count": 4,
     "metadata": {},
     "output_type": "execute_result"
    }
   ],
   "source": [
    "# Loading RL Features Dataset\n",
    "storm_rl_df = pd.read_csv(\"../data/storm_rl_norm.csv\")\n",
    "storm_rl_df[\"cost_category\"] = storm_rl_df[\"cost_category\"].astype('category')\n",
    "storm_rl_df.head()"
   ]
  },
  {
   "cell_type": "code",
   "execution_count": 5,
   "metadata": {},
   "outputs": [
    {
     "name": "stdout",
     "output_type": "stream",
     "text": [
      "<class 'pandas.core.frame.DataFrame'>\n",
      "RangeIndex: 115 entries, 0 to 114\n",
      "Data columns (total 17 columns):\n",
      "storm_names           115 non-null object\n",
      "eff_land_sp           115 non-null float64\n",
      "direct                115 non-null int64\n",
      "angled                115 non-null int64\n",
      "cross                 115 non-null int64\n",
      "press_mbars           115 non-null int64\n",
      "max_sust_winds_kts    115 non-null int64\n",
      "storm_surge           115 non-null float64\n",
      "storm_tide            115 non-null float64\n",
      "moon_phase            115 non-null int64\n",
      "low_neap              115 non-null int64\n",
      "high_neap             115 non-null int64\n",
      "high_ebb              115 non-null int64\n",
      "high_tide_line        115 non-null float64\n",
      "low_tide_line         115 non-null float64\n",
      "norm_cost             115 non-null float64\n",
      "cost_category         115 non-null category\n",
      "dtypes: category(1), float64(6), int64(9), object(1)\n",
      "memory usage: 14.8+ KB\n"
     ]
    }
   ],
   "source": [
    "storm_rl_df.info()"
   ]
  },
  {
   "cell_type": "code",
   "execution_count": 6,
   "metadata": {},
   "outputs": [],
   "source": [
    "storm_rl_df[\"moon_phase\"] = abs(abs(storm_rl_df.moon_phase - 14)-7)"
   ]
  },
  {
   "cell_type": "code",
   "execution_count": 7,
   "metadata": {},
   "outputs": [
    {
     "data": {
      "text/plain": [
       "[moderate, high, severe, minimal, low, catastrophic]\n",
       "Categories (6, object): [moderate, high, severe, minimal, low, catastrophic]"
      ]
     },
     "execution_count": 7,
     "metadata": {},
     "output_type": "execute_result"
    }
   ],
   "source": [
    "storm_rl_df[\"cost_category\"].unique()"
   ]
  },
  {
   "cell_type": "code",
   "execution_count": 8,
   "metadata": {},
   "outputs": [],
   "source": [
    "cateogry_types = ['low', 'minimal', 'moderate', 'high', 'severe',  'catastrophic']\n",
    "\n",
    "storm_rl_df[\"cost_category_num\"] = storm_rl_df.cost_category.astype(\"category\", categories=cateogry_types).cat.codes"
   ]
  },
  {
   "cell_type": "code",
   "execution_count": 9,
   "metadata": {},
   "outputs": [
    {
     "data": {
      "text/html": [
       "<div>\n",
       "<style scoped>\n",
       "    .dataframe tbody tr th:only-of-type {\n",
       "        vertical-align: middle;\n",
       "    }\n",
       "\n",
       "    .dataframe tbody tr th {\n",
       "        vertical-align: top;\n",
       "    }\n",
       "\n",
       "    .dataframe thead th {\n",
       "        text-align: right;\n",
       "    }\n",
       "</style>\n",
       "<table border=\"1\" class=\"dataframe\">\n",
       "  <thead>\n",
       "    <tr style=\"text-align: right;\">\n",
       "      <th></th>\n",
       "      <th>storm_names</th>\n",
       "      <th>year</th>\n",
       "      <th>month</th>\n",
       "      <th>day</th>\n",
       "      <th>Max Radii</th>\n",
       "      <th>Point Maxima</th>\n",
       "    </tr>\n",
       "  </thead>\n",
       "  <tbody>\n",
       "    <tr>\n",
       "      <th>0</th>\n",
       "      <td>Bob</td>\n",
       "      <td>1985</td>\n",
       "      <td>7</td>\n",
       "      <td>25</td>\n",
       "      <td>NaN</td>\n",
       "      <td>21.50</td>\n",
       "    </tr>\n",
       "    <tr>\n",
       "      <th>1</th>\n",
       "      <td>Danny</td>\n",
       "      <td>1985</td>\n",
       "      <td>8</td>\n",
       "      <td>15</td>\n",
       "      <td>NaN</td>\n",
       "      <td>9.80</td>\n",
       "    </tr>\n",
       "    <tr>\n",
       "      <th>2</th>\n",
       "      <td>Elena</td>\n",
       "      <td>1985</td>\n",
       "      <td>9</td>\n",
       "      <td>2</td>\n",
       "      <td>NaN</td>\n",
       "      <td>15.67</td>\n",
       "    </tr>\n",
       "    <tr>\n",
       "      <th>3</th>\n",
       "      <td>Gloria</td>\n",
       "      <td>1985</td>\n",
       "      <td>9</td>\n",
       "      <td>27</td>\n",
       "      <td>NaN</td>\n",
       "      <td>9.70</td>\n",
       "    </tr>\n",
       "    <tr>\n",
       "      <th>4</th>\n",
       "      <td>Gloria</td>\n",
       "      <td>1985</td>\n",
       "      <td>9</td>\n",
       "      <td>27</td>\n",
       "      <td>NaN</td>\n",
       "      <td>9.70</td>\n",
       "    </tr>\n",
       "  </tbody>\n",
       "</table>\n",
       "</div>"
      ],
      "text/plain": [
       "  storm_names  year  month  day  Max Radii  Point Maxima\n",
       "0         Bob  1985      7   25        NaN         21.50\n",
       "1       Danny  1985      8   15        NaN          9.80\n",
       "2       Elena  1985      9    2        NaN         15.67\n",
       "3      Gloria  1985      9   27        NaN          9.70\n",
       "4      Gloria  1985      9   27        NaN          9.70"
      ]
     },
     "execution_count": 9,
     "metadata": {},
     "output_type": "execute_result"
    }
   ],
   "source": [
    "#Loading winds and rain data\n",
    "winds_rain = pd.read_csv(\"../data/wind_rain.csv\")\n",
    "winds_rain = winds_rain.drop(columns={\"Rain Rate\"})\n",
    "winds_rain.head()"
   ]
  },
  {
   "cell_type": "code",
   "execution_count": 10,
   "metadata": {},
   "outputs": [
    {
     "name": "stdout",
     "output_type": "stream",
     "text": [
      "<class 'pandas.core.frame.DataFrame'>\n",
      "RangeIndex: 115 entries, 0 to 114\n",
      "Data columns (total 6 columns):\n",
      "storm_names     115 non-null object\n",
      "year            115 non-null int64\n",
      "month           115 non-null int64\n",
      "day             115 non-null int64\n",
      "Max Radii       104 non-null float64\n",
      "Point Maxima    115 non-null float64\n",
      "dtypes: float64(2), int64(3), object(1)\n",
      "memory usage: 5.5+ KB\n"
     ]
    }
   ],
   "source": [
    "winds_rain.info()"
   ]
  },
  {
   "cell_type": "code",
   "execution_count": 11,
   "metadata": {
    "scrolled": false
   },
   "outputs": [],
   "source": [
    "winds_rain = winds_rain.fillna(0)"
   ]
  },
  {
   "cell_type": "code",
   "execution_count": 12,
   "metadata": {},
   "outputs": [],
   "source": [
    "storm_rl_df[\"year\"] = winds_rain.year\n",
    "storm_rl_df[\"month\"] = winds_rain.month\n",
    "storm_rl_df[\"day\"] = winds_rain.day\n",
    "storm_rl_df[\"Max Radii\"] = winds_rain[\"Max Radii\"]\n",
    "storm_rl_df[\"Point Maxima\"] = winds_rain[\"Point Maxima\"]"
   ]
  },
  {
   "cell_type": "code",
   "execution_count": 13,
   "metadata": {},
   "outputs": [
    {
     "name": "stdout",
     "output_type": "stream",
     "text": [
      "<class 'pandas.core.frame.DataFrame'>\n",
      "RangeIndex: 115 entries, 0 to 114\n",
      "Data columns (total 23 columns):\n",
      "storm_names           115 non-null object\n",
      "eff_land_sp           115 non-null float64\n",
      "direct                115 non-null int64\n",
      "angled                115 non-null int64\n",
      "cross                 115 non-null int64\n",
      "press_mbars           115 non-null int64\n",
      "max_sust_winds_kts    115 non-null int64\n",
      "storm_surge           115 non-null float64\n",
      "storm_tide            115 non-null float64\n",
      "moon_phase            115 non-null int64\n",
      "low_neap              115 non-null int64\n",
      "high_neap             115 non-null int64\n",
      "high_ebb              115 non-null int64\n",
      "high_tide_line        115 non-null float64\n",
      "low_tide_line         115 non-null float64\n",
      "norm_cost             115 non-null float64\n",
      "cost_category         115 non-null category\n",
      "cost_category_num     115 non-null int8\n",
      "year                  115 non-null int64\n",
      "month                 115 non-null int64\n",
      "day                   115 non-null int64\n",
      "Max Radii             115 non-null float64\n",
      "Point Maxima          115 non-null float64\n",
      "dtypes: category(1), float64(8), int64(12), int8(1), object(1)\n",
      "memory usage: 19.4+ KB\n"
     ]
    }
   ],
   "source": [
    "storm_rl_df.info()"
   ]
  },
  {
   "cell_type": "markdown",
   "metadata": {},
   "source": [
    "## Data Exploration"
   ]
  },
  {
   "cell_type": "code",
   "execution_count": 31,
   "metadata": {},
   "outputs": [
    {
     "data": {
      "text/html": [
       "<div>\n",
       "<style scoped>\n",
       "    .dataframe tbody tr th:only-of-type {\n",
       "        vertical-align: middle;\n",
       "    }\n",
       "\n",
       "    .dataframe tbody tr th {\n",
       "        vertical-align: top;\n",
       "    }\n",
       "\n",
       "    .dataframe thead th {\n",
       "        text-align: right;\n",
       "    }\n",
       "</style>\n",
       "<table border=\"1\" class=\"dataframe\">\n",
       "  <thead>\n",
       "    <tr style=\"text-align: right;\">\n",
       "      <th></th>\n",
       "      <th>storm_names</th>\n",
       "      <th>eff_land_sp</th>\n",
       "      <th>direct</th>\n",
       "      <th>angled</th>\n",
       "      <th>cross</th>\n",
       "      <th>press_mbars</th>\n",
       "      <th>max_sust_winds_kts</th>\n",
       "      <th>storm_surge</th>\n",
       "      <th>storm_tide</th>\n",
       "      <th>moon_phase</th>\n",
       "      <th>...</th>\n",
       "      <th>high_ebb</th>\n",
       "      <th>high_tide_line</th>\n",
       "      <th>low_tide_line</th>\n",
       "      <th>norm_cost</th>\n",
       "      <th>cost_category_num</th>\n",
       "      <th>year</th>\n",
       "      <th>month</th>\n",
       "      <th>day</th>\n",
       "      <th>Max Radii</th>\n",
       "      <th>Point Maxima</th>\n",
       "    </tr>\n",
       "    <tr>\n",
       "      <th>cost_category</th>\n",
       "      <th></th>\n",
       "      <th></th>\n",
       "      <th></th>\n",
       "      <th></th>\n",
       "      <th></th>\n",
       "      <th></th>\n",
       "      <th></th>\n",
       "      <th></th>\n",
       "      <th></th>\n",
       "      <th></th>\n",
       "      <th></th>\n",
       "      <th></th>\n",
       "      <th></th>\n",
       "      <th></th>\n",
       "      <th></th>\n",
       "      <th></th>\n",
       "      <th></th>\n",
       "      <th></th>\n",
       "      <th></th>\n",
       "      <th></th>\n",
       "      <th></th>\n",
       "    </tr>\n",
       "  </thead>\n",
       "  <tbody>\n",
       "    <tr>\n",
       "      <th>catastrophic</th>\n",
       "      <td>17</td>\n",
       "      <td>17</td>\n",
       "      <td>17</td>\n",
       "      <td>17</td>\n",
       "      <td>17</td>\n",
       "      <td>17</td>\n",
       "      <td>17</td>\n",
       "      <td>17</td>\n",
       "      <td>17</td>\n",
       "      <td>17</td>\n",
       "      <td>...</td>\n",
       "      <td>17</td>\n",
       "      <td>17</td>\n",
       "      <td>17</td>\n",
       "      <td>17</td>\n",
       "      <td>17</td>\n",
       "      <td>17</td>\n",
       "      <td>17</td>\n",
       "      <td>17</td>\n",
       "      <td>17</td>\n",
       "      <td>17</td>\n",
       "    </tr>\n",
       "    <tr>\n",
       "      <th>high</th>\n",
       "      <td>19</td>\n",
       "      <td>19</td>\n",
       "      <td>19</td>\n",
       "      <td>19</td>\n",
       "      <td>19</td>\n",
       "      <td>19</td>\n",
       "      <td>19</td>\n",
       "      <td>19</td>\n",
       "      <td>19</td>\n",
       "      <td>19</td>\n",
       "      <td>...</td>\n",
       "      <td>19</td>\n",
       "      <td>19</td>\n",
       "      <td>19</td>\n",
       "      <td>19</td>\n",
       "      <td>19</td>\n",
       "      <td>19</td>\n",
       "      <td>19</td>\n",
       "      <td>19</td>\n",
       "      <td>19</td>\n",
       "      <td>19</td>\n",
       "    </tr>\n",
       "    <tr>\n",
       "      <th>low</th>\n",
       "      <td>6</td>\n",
       "      <td>6</td>\n",
       "      <td>6</td>\n",
       "      <td>6</td>\n",
       "      <td>6</td>\n",
       "      <td>6</td>\n",
       "      <td>6</td>\n",
       "      <td>6</td>\n",
       "      <td>6</td>\n",
       "      <td>6</td>\n",
       "      <td>...</td>\n",
       "      <td>6</td>\n",
       "      <td>6</td>\n",
       "      <td>6</td>\n",
       "      <td>6</td>\n",
       "      <td>6</td>\n",
       "      <td>6</td>\n",
       "      <td>6</td>\n",
       "      <td>6</td>\n",
       "      <td>6</td>\n",
       "      <td>6</td>\n",
       "    </tr>\n",
       "    <tr>\n",
       "      <th>minimal</th>\n",
       "      <td>48</td>\n",
       "      <td>48</td>\n",
       "      <td>48</td>\n",
       "      <td>48</td>\n",
       "      <td>48</td>\n",
       "      <td>48</td>\n",
       "      <td>48</td>\n",
       "      <td>48</td>\n",
       "      <td>48</td>\n",
       "      <td>48</td>\n",
       "      <td>...</td>\n",
       "      <td>48</td>\n",
       "      <td>48</td>\n",
       "      <td>48</td>\n",
       "      <td>48</td>\n",
       "      <td>48</td>\n",
       "      <td>48</td>\n",
       "      <td>48</td>\n",
       "      <td>48</td>\n",
       "      <td>48</td>\n",
       "      <td>48</td>\n",
       "    </tr>\n",
       "    <tr>\n",
       "      <th>moderate</th>\n",
       "      <td>8</td>\n",
       "      <td>8</td>\n",
       "      <td>8</td>\n",
       "      <td>8</td>\n",
       "      <td>8</td>\n",
       "      <td>8</td>\n",
       "      <td>8</td>\n",
       "      <td>8</td>\n",
       "      <td>8</td>\n",
       "      <td>8</td>\n",
       "      <td>...</td>\n",
       "      <td>8</td>\n",
       "      <td>8</td>\n",
       "      <td>8</td>\n",
       "      <td>8</td>\n",
       "      <td>8</td>\n",
       "      <td>8</td>\n",
       "      <td>8</td>\n",
       "      <td>8</td>\n",
       "      <td>8</td>\n",
       "      <td>8</td>\n",
       "    </tr>\n",
       "    <tr>\n",
       "      <th>severe</th>\n",
       "      <td>17</td>\n",
       "      <td>17</td>\n",
       "      <td>17</td>\n",
       "      <td>17</td>\n",
       "      <td>17</td>\n",
       "      <td>17</td>\n",
       "      <td>17</td>\n",
       "      <td>17</td>\n",
       "      <td>17</td>\n",
       "      <td>17</td>\n",
       "      <td>...</td>\n",
       "      <td>17</td>\n",
       "      <td>17</td>\n",
       "      <td>17</td>\n",
       "      <td>17</td>\n",
       "      <td>17</td>\n",
       "      <td>17</td>\n",
       "      <td>17</td>\n",
       "      <td>17</td>\n",
       "      <td>17</td>\n",
       "      <td>17</td>\n",
       "    </tr>\n",
       "  </tbody>\n",
       "</table>\n",
       "<p>6 rows × 22 columns</p>\n",
       "</div>"
      ],
      "text/plain": [
       "               storm_names  eff_land_sp  direct  angled  cross  press_mbars  \\\n",
       "cost_category                                                                 \n",
       "catastrophic            17           17      17      17     17           17   \n",
       "high                    19           19      19      19     19           19   \n",
       "low                      6            6       6       6      6            6   \n",
       "minimal                 48           48      48      48     48           48   \n",
       "moderate                 8            8       8       8      8            8   \n",
       "severe                  17           17      17      17     17           17   \n",
       "\n",
       "               max_sust_winds_kts  storm_surge  storm_tide  moon_phase  ...  \\\n",
       "cost_category                                                           ...   \n",
       "catastrophic                   17           17          17          17  ...   \n",
       "high                           19           19          19          19  ...   \n",
       "low                             6            6           6           6  ...   \n",
       "minimal                        48           48          48          48  ...   \n",
       "moderate                        8            8           8           8  ...   \n",
       "severe                         17           17          17          17  ...   \n",
       "\n",
       "               high_ebb  high_tide_line  low_tide_line  norm_cost  \\\n",
       "cost_category                                                       \n",
       "catastrophic         17              17             17         17   \n",
       "high                 19              19             19         19   \n",
       "low                   6               6              6          6   \n",
       "minimal              48              48             48         48   \n",
       "moderate              8               8              8          8   \n",
       "severe               17              17             17         17   \n",
       "\n",
       "               cost_category_num  year  month  day  Max Radii  Point Maxima  \n",
       "cost_category                                                                \n",
       "catastrophic                  17    17     17   17         17            17  \n",
       "high                          19    19     19   19         19            19  \n",
       "low                            6     6      6    6          6             6  \n",
       "minimal                       48    48     48   48         48            48  \n",
       "moderate                       8     8      8    8          8             8  \n",
       "severe                        17    17     17   17         17            17  \n",
       "\n",
       "[6 rows x 22 columns]"
      ]
     },
     "execution_count": 31,
     "metadata": {},
     "output_type": "execute_result"
    }
   ],
   "source": [
    "storm_rl_df.groupby(storm_rl_df[\"cost_category\"]).count()"
   ]
  },
  {
   "cell_type": "code",
   "execution_count": 15,
   "metadata": {},
   "outputs": [
    {
     "data": {
      "image/png": "[encoded data removed]",
      "text/plain": [
       "<Figure size 432x288 with 1 Axes>"
      ]
     },
     "metadata": {
      "needs_background": "light"
     },
     "output_type": "display_data"
    }
   ],
   "source": [
    "ax = sns.countplot(storm_rl_df[\"cost_category\"],label=\"Count\")"
   ]
  },
  {
   "cell_type": "code",
   "execution_count": 37,
   "metadata": {},
   "outputs": [
    {
     "data": {
      "text/plain": [
       "2004    10\n",
       "1998     8\n",
       "2005     8\n",
       "1985     7\n",
       "2002     7\n",
       "2008     6\n",
       "1995     6\n",
       "2017     6\n",
       "1999     5\n",
       "1996     4\n",
       "2006     4\n",
       "2012     4\n",
       "2003     4\n",
       "2001     3\n",
       "2011     3\n",
       "1989     3\n",
       "1992     3\n",
       "1994     3\n",
       "1986     2\n",
       "1991     2\n",
       "2015     2\n",
       "1997     2\n",
       "2000     2\n",
       "2016     2\n",
       "2007     2\n",
       "2010     1\n",
       "2014     1\n",
       "1993     1\n",
       "2013     1\n",
       "1988     1\n",
       "1987     1\n",
       "2009     1\n",
       "Name: year, dtype: int64"
      ]
     },
     "execution_count": 37,
     "metadata": {},
     "output_type": "execute_result"
    }
   ],
   "source": [
    "storm_rl_df['year'].value_counts()"
   ]
  },
  {
   "cell_type": "code",
   "execution_count": 36,
   "metadata": {},
   "outputs": [
    {
     "data": {
      "image/png": "[encoded data removed]",
      "text/plain": [
       "<Figure size 576x504 with 1 Axes>"
      ]
     },
     "metadata": {
      "needs_background": "light"
     },
     "output_type": "display_data"
    }
   ],
   "source": [
    "plt.figure(figsize=(8,7))\n",
    "plt.barh(storm_rl_df['year'].value_counts().sort_index().index[:-1], \n",
    "         storm_rl_df['year'].value_counts().sort_index().values[:-1], color = '#01597f')\n",
    "plt.title('Number of Storm Events by Year', fontsize = 12)\n",
    "plt.yticks(np.arange(1985,2018,1), fontsize = 10)\n",
    "plt.xticks(fontsize = 12);"
   ]
  },
  {
   "cell_type": "code",
   "execution_count": 17,
   "metadata": {},
   "outputs": [
    {
     "data": {
      "image/png": "[encoded data removed]",
      "text/plain": [
       "<Figure size 576x504 with 1 Axes>"
      ]
     },
     "metadata": {
      "needs_background": "light"
     },
     "output_type": "display_data"
    }
   ],
   "source": [
    "plt.figure(figsize=(8,7))\n",
    "plt.bar(storm_rl_df['month'].value_counts().sort_index().index[:-1], \n",
    "         storm_rl_df['month'].value_counts().sort_index().values[:-1], color = '#01597f')\n",
    "plt.title('Number of Storm Events by Month', fontsize = 12)\n",
    "plt.xticks(range(1,13),['Jan','Feb','Mar','Apr','May','Jun','Jul','Aug','Sep','Oct','Nov','Dec'],\n",
    "           rotation = 45, fontsize = 12)\n",
    "plt.yticks(fontsize = 12);"
   ]
  },
  {
   "cell_type": "code",
   "execution_count": 18,
   "metadata": {},
   "outputs": [],
   "source": [
    "coordinates = pd.read_csv(\"../data/storm_main.csv\")"
   ]
  },
  {
   "cell_type": "code",
   "execution_count": 19,
   "metadata": {},
   "outputs": [
    {
     "name": "stdout",
     "output_type": "stream",
     "text": [
      "<class 'pandas.core.frame.DataFrame'>\n",
      "RangeIndex: 115 entries, 0 to 114\n",
      "Data columns (total 7 columns):\n",
      "storm_names    115 non-null object\n",
      "year           115 non-null int64\n",
      "month          115 non-null int64\n",
      "day            115 non-null int64\n",
      "lat_n          115 non-null float64\n",
      "long_w         115 non-null float64\n",
      "norm_cost      115 non-null float64\n",
      "dtypes: float64(3), int64(3), object(1)\n",
      "memory usage: 6.4+ KB\n"
     ]
    }
   ],
   "source": [
    "coordinates = coordinates.drop(columns={'time', 'zone', 'max_winds_kts', 'SS', 'pre_lat', 'pre_long', 'sub_lat',\n",
    "       'sub_long', 'dir', 'sp1', 'sp2', 'frame', 'hours', 'eff_wind_sp',\n",
    "       'angle_binary', 'direct', 'angled', 'cross', 'press_mbars',\n",
    "       'max_sust_winds_kts', 'width_storm', 'storm_surge', 'storm_tide',\n",
    "       'moon_phase', 'tide_phase', 'low_neap', 'high_neap', 'high_ebb',\n",
    "       'high_tide_line', 'low_tide_line', 'rate_rainfall', 'total_rainfall',\n",
    "       'deaths', 'states_affected', 'damage_unadj', 'col_index',\n",
    "       'infaltion_adj'})\n",
    "coordinates[\"norm_cost\"] = storm_rl_df[\"norm_cost\"]\n",
    "coordinates.info()"
   ]
  },
  {
   "cell_type": "code",
   "execution_count": 20,
   "metadata": {
    "scrolled": false
   },
   "outputs": [
    {
     "name": "stderr",
     "output_type": "stream",
     "text": [
      "/Users/neelrast/anaconda3/lib/python3.6/site-packages/IPython/core/display.py:689: UserWarning:\n",
      "\n",
      "Consider using IPython.display.IFrame instead\n",
      "\n"
     ]
    },
    {
     "data": {
      "text/html": [
       "<iframe id=\"igraph\" scrolling=\"no\" style=\"border:none;\" seamless=\"seamless\" src=\"https://plot.ly/~neelrast/7.embed\" height=\"525px\" width=\"100%\"></iframe>"
      ],
      "text/plain": [
       "<plotly.tools.PlotlyDisplay object>"
      ]
     },
     "execution_count": 20,
     "metadata": {},
     "output_type": "execute_result"
    }
   ],
   "source": [
    "coordinates['text'] = 'Hurricane ' + coordinates['storm_names'] + '<br>Occured on ' + coordinates['month'].astype('str') + '/' + coordinates['day'].astype('str') + '/' + coordinates['year'].astype('str') + ' <br>Norm. Damage '  +  coordinates['norm_cost'].map('${:,}'.format).astype('str')\n",
    "\n",
    "scl = [ [0,\"rgb(5, 10, 172)\"],[0.35,\"rgb(40, 60, 190)\"],[0.5,\"rgb(70, 100, 245)\"],\\\n",
    "    [0.6,\"rgb(90, 120, 245)\"],[0.7,\"rgb(106, 137, 247)\"],[1,\"rgb(220, 220, 220)\"] ]\n",
    "\n",
    "data = [go.Scattergeo(\n",
    "        locationmode = 'USA-states',\n",
    "        lon = -1*coordinates['long_w'],\n",
    "        lat = coordinates['lat_n'],\n",
    "        text = coordinates['text'],\n",
    "        mode = 'markers',\n",
    "        marker = dict( \n",
    "            size = 8, \n",
    "            opacity = 0.8,\n",
    "            reversescale = True,\n",
    "            autocolorscale = False,\n",
    "            symbol = 'square',\n",
    "            line = dict(\n",
    "                width=1,\n",
    "                color='rgba(102, 102, 102)'\n",
    "            ),\n",
    "            colorscale = scl,\n",
    "            cmin = 0,\n",
    "            color = coordinates['norm_cost'],\n",
    "            cmax = coordinates['norm_cost'].max(),\n",
    "            colorbar=dict(\n",
    "                title=\"Normalized Damage caused by Storm Events <br> since 1985 till 2018\"\n",
    "            )\n",
    "        ))]\n",
    "\n",
    "layout = dict(\n",
    "        title = 'Coordinates of Storm Events which caused land slides at point of impact.', \n",
    "        geo = dict(\n",
    "            scope='usa',\n",
    "            projection=dict( type='albers usa' ),\n",
    "            showland = True,\n",
    "            landcolor = \"rgb(250, 250, 250)\",\n",
    "            subunitcolor = \"rgb(217, 217, 217)\",\n",
    "            countrycolor = \"rgb(217, 217, 217)\",\n",
    "            countrywidth = 0.5,\n",
    "            subunitwidth = 0.5        \n",
    "        ),\n",
    "    )\n",
    "\n",
    "fig = go.Figure(data=data, layout=layout )\n",
    "py.iplot(fig, filename='storm-events')"
   ]
  },
  {
   "cell_type": "code",
   "execution_count": 21,
   "metadata": {},
   "outputs": [],
   "source": [
    "# X_rl -> features\n",
    "# y_rl -> labels\n",
    "\n",
    "X_rl = storm_rl_df.drop(columns={\"storm_names\",\"year\",\"month\",\"day\",\"norm_cost\",\"cost_category\",\"cost_category_num\"})\n",
    "y_rl = storm_rl_df[\"cost_category_num\"]\n",
    "classes = pd.merge(y_rl, storm_rl_df[\"cost_category\"], left_index=True,  right_index =True)"
   ]
  },
  {
   "cell_type": "code",
   "execution_count": 22,
   "metadata": {},
   "outputs": [
    {
     "data": {
      "text/html": [
       "<div>\n",
       "<style scoped>\n",
       "    .dataframe tbody tr th:only-of-type {\n",
       "        vertical-align: middle;\n",
       "    }\n",
       "\n",
       "    .dataframe tbody tr th {\n",
       "        vertical-align: top;\n",
       "    }\n",
       "\n",
       "    .dataframe thead th {\n",
       "        text-align: right;\n",
       "    }\n",
       "</style>\n",
       "<table border=\"1\" class=\"dataframe\">\n",
       "  <thead>\n",
       "    <tr style=\"text-align: right;\">\n",
       "      <th></th>\n",
       "      <th>eff_land_sp</th>\n",
       "      <th>direct</th>\n",
       "      <th>angled</th>\n",
       "      <th>cross</th>\n",
       "      <th>press_mbars</th>\n",
       "      <th>max_sust_winds_kts</th>\n",
       "      <th>storm_surge</th>\n",
       "      <th>storm_tide</th>\n",
       "      <th>moon_phase</th>\n",
       "      <th>low_neap</th>\n",
       "      <th>high_neap</th>\n",
       "      <th>high_ebb</th>\n",
       "      <th>high_tide_line</th>\n",
       "      <th>low_tide_line</th>\n",
       "      <th>Max Radii</th>\n",
       "      <th>Point Maxima</th>\n",
       "    </tr>\n",
       "  </thead>\n",
       "  <tbody>\n",
       "    <tr>\n",
       "      <th>0</th>\n",
       "      <td>15.005262</td>\n",
       "      <td>0</td>\n",
       "      <td>1</td>\n",
       "      <td>0</td>\n",
       "      <td>1003</td>\n",
       "      <td>65</td>\n",
       "      <td>0.0</td>\n",
       "      <td>0.0</td>\n",
       "      <td>0</td>\n",
       "      <td>0</td>\n",
       "      <td>1</td>\n",
       "      <td>0</td>\n",
       "      <td>7.5</td>\n",
       "      <td>-0.6</td>\n",
       "      <td>0.0</td>\n",
       "      <td>21.50</td>\n",
       "    </tr>\n",
       "    <tr>\n",
       "      <th>1</th>\n",
       "      <td>12.080622</td>\n",
       "      <td>1</td>\n",
       "      <td>0</td>\n",
       "      <td>0</td>\n",
       "      <td>987</td>\n",
       "      <td>80</td>\n",
       "      <td>0.0</td>\n",
       "      <td>8.0</td>\n",
       "      <td>6</td>\n",
       "      <td>0</td>\n",
       "      <td>0</td>\n",
       "      <td>0</td>\n",
       "      <td>1.9</td>\n",
       "      <td>-0.4</td>\n",
       "      <td>0.0</td>\n",
       "      <td>9.80</td>\n",
       "    </tr>\n",
       "    <tr>\n",
       "      <th>2</th>\n",
       "      <td>19.448238</td>\n",
       "      <td>0</td>\n",
       "      <td>1</td>\n",
       "      <td>0</td>\n",
       "      <td>959</td>\n",
       "      <td>100</td>\n",
       "      <td>10.0</td>\n",
       "      <td>0.0</td>\n",
       "      <td>5</td>\n",
       "      <td>0</td>\n",
       "      <td>1</td>\n",
       "      <td>0</td>\n",
       "      <td>1.4</td>\n",
       "      <td>1.0</td>\n",
       "      <td>0.0</td>\n",
       "      <td>15.67</td>\n",
       "    </tr>\n",
       "    <tr>\n",
       "      <th>3</th>\n",
       "      <td>31.092933</td>\n",
       "      <td>0</td>\n",
       "      <td>0</td>\n",
       "      <td>0</td>\n",
       "      <td>942</td>\n",
       "      <td>90</td>\n",
       "      <td>0.0</td>\n",
       "      <td>0.0</td>\n",
       "      <td>5</td>\n",
       "      <td>1</td>\n",
       "      <td>0</td>\n",
       "      <td>0</td>\n",
       "      <td>1.3</td>\n",
       "      <td>0.3</td>\n",
       "      <td>0.0</td>\n",
       "      <td>9.70</td>\n",
       "    </tr>\n",
       "    <tr>\n",
       "      <th>4</th>\n",
       "      <td>45.238814</td>\n",
       "      <td>0</td>\n",
       "      <td>1</td>\n",
       "      <td>0</td>\n",
       "      <td>961</td>\n",
       "      <td>75</td>\n",
       "      <td>0.0</td>\n",
       "      <td>0.0</td>\n",
       "      <td>5</td>\n",
       "      <td>0</td>\n",
       "      <td>0</td>\n",
       "      <td>0</td>\n",
       "      <td>3.0</td>\n",
       "      <td>0.2</td>\n",
       "      <td>0.0</td>\n",
       "      <td>9.70</td>\n",
       "    </tr>\n",
       "  </tbody>\n",
       "</table>\n",
       "</div>"
      ],
      "text/plain": [
       "   eff_land_sp  direct  angled  cross  press_mbars  max_sust_winds_kts  \\\n",
       "0    15.005262       0       1      0         1003                  65   \n",
       "1    12.080622       1       0      0          987                  80   \n",
       "2    19.448238       0       1      0          959                 100   \n",
       "3    31.092933       0       0      0          942                  90   \n",
       "4    45.238814       0       1      0          961                  75   \n",
       "\n",
       "   storm_surge  storm_tide  moon_phase  low_neap  high_neap  high_ebb  \\\n",
       "0          0.0         0.0           0         0          1         0   \n",
       "1          0.0         8.0           6         0          0         0   \n",
       "2         10.0         0.0           5         0          1         0   \n",
       "3          0.0         0.0           5         1          0         0   \n",
       "4          0.0         0.0           5         0          0         0   \n",
       "\n",
       "   high_tide_line  low_tide_line  Max Radii  Point Maxima  \n",
       "0             7.5           -0.6        0.0         21.50  \n",
       "1             1.9           -0.4        0.0          9.80  \n",
       "2             1.4            1.0        0.0         15.67  \n",
       "3             1.3            0.3        0.0          9.70  \n",
       "4             3.0            0.2        0.0          9.70  "
      ]
     },
     "execution_count": 22,
     "metadata": {},
     "output_type": "execute_result"
    }
   ],
   "source": [
    "X_rl.head()"
   ]
  },
  {
   "cell_type": "markdown",
   "metadata": {},
   "source": [
    "## Classifiers"
   ]
  },
  {
   "cell_type": "code",
   "execution_count": 160,
   "metadata": {},
   "outputs": [],
   "source": [
    "classifiers = []\n",
    "\n",
    "model1 = xgboost.XGBClassifier()\n",
    "classifiers.append(['XGBoost', model1])\n",
    "\n",
    "model2 = svm.SVC(kernel = 'linear', C = 1)\n",
    "classifiers.append(['SVM', model2])\n",
    "\n",
    "model3 = tree.DecisionTreeClassifier()\n",
    "classifiers.append(['Decision Trees', model3])\n",
    "\n",
    "model4 = ensemble.RandomForestClassifier(max_depth = 10)\n",
    "classifiers.append(['Random Forest', model4])\n",
    "\n",
    "model5 = neighbors.KNeighborsClassifier(n_neighbors = 7)\n",
    "classifiers.append(['KNN', model5])\n",
    "\n",
    "model6 = linear_model.LogisticRegressionCV(cv=4, multi_class='multinomial')\n",
    "classifiers.append(['Logistic Regression',model6])"
   ]
  },
  {
   "cell_type": "markdown",
   "metadata": {},
   "source": [
    "### RL Feature Set"
   ]
  },
  {
   "cell_type": "code",
   "execution_count": 164,
   "metadata": {
    "scrolled": false
   },
   "outputs": [],
   "source": [
    "rl_acc = []\n",
    "rl_mse = []\n",
    "names = []\n",
    "\n",
    "i = 0\n",
    "\n",
    "while i =<30:\n",
    "    # Dividing X, y into train and test data by 80 events and 35 events randomly\n",
    "    X_train, X_test, y_train, y_test = train_test_split(X_rl, y_rl, test_size=0.30, random_state=23) \n",
    "\n",
    "    for name, model in classifiers:\n",
    "        names.append(name) \n",
    "\n",
    "        model.fit(X_train, y_train)\n",
    "        y_pred= model.predict(X_test)\n",
    "\n",
    "        acc = accuracy_score(y_test, y_pred)\n",
    "        #print(\"Model:\\n%s\\n\\nAccuracy:\\n%s\\n\"%(name, acc*100))\n",
    "        rl_acc.append([name, acc])\n",
    "\n",
    "        mse = mean_squared_error(y_test, y_pred)\n",
    "        #print(\"Mean Squared Error:\\n%s\\n\"%(mse))\n",
    "        rl_mse.append([name, mse])\n",
    "    i = i+1\n",
    "print(\"Done\")"
   ]
  },
  {
   "cell_type": "code",
   "execution_count": 174,
   "metadata": {},
   "outputs": [
    {
     "data": {
      "text/html": [
       "<div>\n",
       "<style scoped>\n",
       "    .dataframe tbody tr th:only-of-type {\n",
       "        vertical-align: middle;\n",
       "    }\n",
       "\n",
       "    .dataframe tbody tr th {\n",
       "        vertical-align: top;\n",
       "    }\n",
       "\n",
       "    .dataframe thead th {\n",
       "        text-align: right;\n",
       "    }\n",
       "</style>\n",
       "<table border=\"1\" class=\"dataframe\">\n",
       "  <thead>\n",
       "    <tr style=\"text-align: right;\">\n",
       "      <th></th>\n",
       "      <th>acc</th>\n",
       "      <th>names</th>\n",
       "    </tr>\n",
       "  </thead>\n",
       "  <tbody>\n",
       "    <tr>\n",
       "      <th>0</th>\n",
       "      <td>XGBoost</td>\n",
       "      <td>0.571429</td>\n",
       "    </tr>\n",
       "    <tr>\n",
       "      <th>1</th>\n",
       "      <td>SVM</td>\n",
       "      <td>0.514286</td>\n",
       "    </tr>\n",
       "    <tr>\n",
       "      <th>2</th>\n",
       "      <td>Decision Trees</td>\n",
       "      <td>0.457143</td>\n",
       "    </tr>\n",
       "    <tr>\n",
       "      <th>3</th>\n",
       "      <td>Random Forest</td>\n",
       "      <td>0.600000</td>\n",
       "    </tr>\n",
       "    <tr>\n",
       "      <th>4</th>\n",
       "      <td>KNN</td>\n",
       "      <td>0.428571</td>\n",
       "    </tr>\n",
       "  </tbody>\n",
       "</table>\n",
       "</div>"
      ],
      "text/plain": [
       "              acc     names\n",
       "0         XGBoost  0.571429\n",
       "1             SVM  0.514286\n",
       "2  Decision Trees  0.457143\n",
       "3   Random Forest  0.600000\n",
       "4             KNN  0.428571"
      ]
     },
     "execution_count": 174,
     "metadata": {},
     "output_type": "execute_result"
    }
   ],
   "source": [
    "df_acc = pd.DataFrame(rl_acc, columns = {\"names\", \"acc\"})\n",
    "df_acc.head()"
   ]
  },
  {
   "cell_type": "code",
   "execution_count": 167,
   "metadata": {},
   "outputs": [],
   "source": [
    "df_mse = pd.DataFrame(rl_mse, columns = {\"names\", \"mse\"})\n",
    "#df_mse.head()"
   ]
  },
  {
   "cell_type": "code",
   "execution_count": 168,
   "metadata": {},
   "outputs": [
    {
     "data": {
      "text/html": [
       "<div>\n",
       "<style scoped>\n",
       "    .dataframe tbody tr th:only-of-type {\n",
       "        vertical-align: middle;\n",
       "    }\n",
       "\n",
       "    .dataframe tbody tr th {\n",
       "        vertical-align: top;\n",
       "    }\n",
       "\n",
       "    .dataframe thead tr th {\n",
       "        text-align: left;\n",
       "    }\n",
       "\n",
       "    .dataframe thead tr:last-of-type th {\n",
       "        text-align: right;\n",
       "    }\n",
       "</style>\n",
       "<table border=\"1\" class=\"dataframe\">\n",
       "  <thead>\n",
       "    <tr>\n",
       "      <th></th>\n",
       "      <th colspan=\"8\" halign=\"left\">mse</th>\n",
       "    </tr>\n",
       "    <tr>\n",
       "      <th></th>\n",
       "      <th>count</th>\n",
       "      <th>mean</th>\n",
       "      <th>std</th>\n",
       "      <th>min</th>\n",
       "      <th>25%</th>\n",
       "      <th>50%</th>\n",
       "      <th>75%</th>\n",
       "      <th>max</th>\n",
       "    </tr>\n",
       "    <tr>\n",
       "      <th>names</th>\n",
       "      <th></th>\n",
       "      <th></th>\n",
       "      <th></th>\n",
       "      <th></th>\n",
       "      <th></th>\n",
       "      <th></th>\n",
       "      <th></th>\n",
       "      <th></th>\n",
       "    </tr>\n",
       "  </thead>\n",
       "  <tbody>\n",
       "    <tr>\n",
       "      <th>Decision Trees</th>\n",
       "      <td>1.0</td>\n",
       "      <td>3.971429</td>\n",
       "      <td>NaN</td>\n",
       "      <td>3.971429</td>\n",
       "      <td>3.971429</td>\n",
       "      <td>3.971429</td>\n",
       "      <td>3.971429</td>\n",
       "      <td>3.971429</td>\n",
       "    </tr>\n",
       "    <tr>\n",
       "      <th>KNN</th>\n",
       "      <td>1.0</td>\n",
       "      <td>4.400000</td>\n",
       "      <td>NaN</td>\n",
       "      <td>4.400000</td>\n",
       "      <td>4.400000</td>\n",
       "      <td>4.400000</td>\n",
       "      <td>4.400000</td>\n",
       "      <td>4.400000</td>\n",
       "    </tr>\n",
       "    <tr>\n",
       "      <th>Logistic Regression</th>\n",
       "      <td>1.0</td>\n",
       "      <td>3.428571</td>\n",
       "      <td>NaN</td>\n",
       "      <td>3.428571</td>\n",
       "      <td>3.428571</td>\n",
       "      <td>3.428571</td>\n",
       "      <td>3.428571</td>\n",
       "      <td>3.428571</td>\n",
       "    </tr>\n",
       "    <tr>\n",
       "      <th>Random Forest</th>\n",
       "      <td>1.0</td>\n",
       "      <td>2.514286</td>\n",
       "      <td>NaN</td>\n",
       "      <td>2.514286</td>\n",
       "      <td>2.514286</td>\n",
       "      <td>2.514286</td>\n",
       "      <td>2.514286</td>\n",
       "      <td>2.514286</td>\n",
       "    </tr>\n",
       "    <tr>\n",
       "      <th>SVM</th>\n",
       "      <td>1.0</td>\n",
       "      <td>3.142857</td>\n",
       "      <td>NaN</td>\n",
       "      <td>3.142857</td>\n",
       "      <td>3.142857</td>\n",
       "      <td>3.142857</td>\n",
       "      <td>3.142857</td>\n",
       "      <td>3.142857</td>\n",
       "    </tr>\n",
       "    <tr>\n",
       "      <th>XGBoost</th>\n",
       "      <td>1.0</td>\n",
       "      <td>2.257143</td>\n",
       "      <td>NaN</td>\n",
       "      <td>2.257143</td>\n",
       "      <td>2.257143</td>\n",
       "      <td>2.257143</td>\n",
       "      <td>2.257143</td>\n",
       "      <td>2.257143</td>\n",
       "    </tr>\n",
       "  </tbody>\n",
       "</table>\n",
       "</div>"
      ],
      "text/plain": [
       "                      mse                                              \\\n",
       "                    count      mean std       min       25%       50%   \n",
       "names                                                                   \n",
       "Decision Trees        1.0  3.971429 NaN  3.971429  3.971429  3.971429   \n",
       "KNN                   1.0  4.400000 NaN  4.400000  4.400000  4.400000   \n",
       "Logistic Regression   1.0  3.428571 NaN  3.428571  3.428571  3.428571   \n",
       "Random Forest         1.0  2.514286 NaN  2.514286  2.514286  2.514286   \n",
       "SVM                   1.0  3.142857 NaN  3.142857  3.142857  3.142857   \n",
       "XGBoost               1.0  2.257143 NaN  2.257143  2.257143  2.257143   \n",
       "\n",
       "                                         \n",
       "                          75%       max  \n",
       "names                                    \n",
       "Decision Trees       3.971429  3.971429  \n",
       "KNN                  4.400000  4.400000  \n",
       "Logistic Regression  3.428571  3.428571  \n",
       "Random Forest        2.514286  2.514286  \n",
       "SVM                  3.142857  3.142857  \n",
       "XGBoost              2.257143  2.257143  "
      ]
     },
     "execution_count": 168,
     "metadata": {},
     "output_type": "execute_result"
    }
   ],
   "source": [
    "df_mse.groupby(df_mse.names).describe()"
   ]
  },
  {
   "cell_type": "markdown",
   "metadata": {},
   "source": [
    "### Feature and Model Optimization for RF"
   ]
  },
  {
   "cell_type": "code",
   "execution_count": 141,
   "metadata": {},
   "outputs": [
    {
     "data": {
      "text/plain": [
       "DecisionTreeClassifier(class_weight=None, criterion='gini', max_depth=5,\n",
       "            max_features='log2', max_leaf_nodes=None,\n",
       "            min_impurity_decrease=0.0, min_impurity_split=None,\n",
       "            min_samples_leaf=5, min_samples_split=2,\n",
       "            min_weight_fraction_leaf=0.0, presort=False, random_state=42,\n",
       "            splitter='best')"
      ]
     },
     "execution_count": 141,
     "metadata": {},
     "output_type": "execute_result"
    }
   ],
   "source": [
    "# Dividing X, y into train and test data by 80 events and 35 events\n",
    "X_train, X_test, y_train, y_test = train_test_split(X_rl, y_rl, test_size=0.30) \n",
    "\n",
    "# Choose some parameter combinations to try\n",
    "parameters = {\n",
    "              'max_features': ['log2', 'sqrt','auto'], \n",
    "              'criterion': ['entropy', 'gini'],\n",
    "              'max_depth': [2, 3, 5, 10], \n",
    "              'min_samples_split': [2, 3, 5],\n",
    "              'min_samples_leaf': [1,5,8]\n",
    "             }\n",
    "\n",
    "# Type of scoring used to compare parameter combinations\n",
    "acc_scorer = make_scorer(accuracy_score)\n",
    "\n",
    "# Run the grid search\n",
    "grid_obj = GridSearchCV(clf, parameters, scoring=acc_scorer)\n",
    "grid_obj = grid_obj.fit(X_train, y_train)\n",
    "\n",
    "# Set the clf to the best combination of parameters\n",
    "clf = grid_obj.best_estimator_\n",
    "\n",
    "# Fit the best algorithm to the data. \n",
    "clf.fit(X_train, y_train)"
   ]
  },
  {
   "cell_type": "code",
   "execution_count": 142,
   "metadata": {},
   "outputs": [
    {
     "name": "stdout",
     "output_type": "stream",
     "text": [
      "34.285714285714285\n",
      "5.628571428571429\n"
     ]
    }
   ],
   "source": [
    "predictions = clf.predict(X_test)\n",
    "print(accuracy_score(y_test, predictions)*100)\n",
    "print(mean_squared_error(y_test, predictions))"
   ]
  },
  {
   "cell_type": "code",
   "execution_count": null,
   "metadata": {},
   "outputs": [],
   "source": []
  },
  {
   "cell_type": "code",
   "execution_count": 38,
   "metadata": {},
   "outputs": [
    {
     "data": {
      "image/png": "[encoded data removed]",
      "text/plain": [
       "<Figure size 1260x1260 with 49 Axes>"
      ]
     },
     "metadata": {
      "needs_background": "light"
     },
     "output_type": "display_data"
    }
   ],
   "source": [
    "g = sns.PairGrid(X_rl[X_rl.columns[rfecv.support_]])\n",
    "g.map(plt.scatter);"
   ]
  },
  {
   "cell_type": "code",
   "execution_count": null,
   "metadata": {},
   "outputs": [],
   "source": [
    "# Dropping columns which are not selected in our RFE Test.\n",
    "X_rl = X_rl[X_rl.columns[rfecv.support_]]\n",
    "X_rl = X_rl.astype(\"float64\")"
   ]
  },
  {
   "cell_type": "code",
   "execution_count": null,
   "metadata": {},
   "outputs": [],
   "source": [
    "X_rl.info()"
   ]
  },
  {
   "cell_type": "code",
   "execution_count": null,
   "metadata": {
    "scrolled": false
   },
   "outputs": [],
   "source": [
    "# calculate the correlation matrix\n",
    "corr = X_rl.corr()\n",
    "\n",
    "cmap = sns.diverging_palette(5, 250, as_cmap=True)\n",
    "\n",
    "corr.style.background_gradient(cmap, axis=1)\\\n",
    "    .set_properties(**{'max-width': '80px', 'font-size': '10pt'})\\\n",
    "    .set_precision(2)\\"
   ]
  },
  {
   "cell_type": "code",
   "execution_count": null,
   "metadata": {
    "scrolled": false
   },
   "outputs": [],
   "source": [
    "# correlation map\n",
    "print(\"\\n----------\")\n",
    "f,ax = plt.subplots()\n",
    "sns.heatmap(corr, annot=True, linewidths=.5, fmt= '.1f',ax=ax)"
   ]
  },
  {
   "cell_type": "markdown",
   "metadata": {},
   "source": [
    "### Understand Decision Trees and Feature Importance"
   ]
  },
  {
   "cell_type": "code",
   "execution_count": null,
   "metadata": {},
   "outputs": [],
   "source": [
    "dtree = tree.DecisionTreeClassifier(max_depth = 10)\n",
    "dtree.fit(X_rl, y_rl)\n",
    "\n",
    "dot_data = StringIO()\n",
    "export_graphviz(dtree, out_file=dot_data,  \n",
    "                filled=True, rounded=True,\n",
    "                special_characters=True)\n",
    "graph = pydotplus.graph_from_dot_data(dot_data.getvalue())  \n",
    "Image(graph.create_png())"
   ]
  },
  {
   "cell_type": "code",
   "execution_count": null,
   "metadata": {},
   "outputs": [],
   "source": [
    "print(dict(zip(X_rl.columns, dtree.feature_importances_*100)))"
   ]
  },
  {
   "cell_type": "code",
   "execution_count": null,
   "metadata": {},
   "outputs": [],
   "source": [
    "importances = dtree.feature_importances_\n",
    "indices = np.argsort(importances)\n",
    "\n",
    "plt.title('Feature Importances')\n",
    "plt.barh(range(len(indices)), importances[indices], color='b', align='center')\n",
    "plt.yticks(range(len(indices)), X_rl.columns)\n",
    "plt.xlabel('Relative Importance')\n",
    "plt.show()"
   ]
  },
  {
   "cell_type": "markdown",
   "metadata": {},
   "source": [
    "# Import SS Data"
   ]
  },
  {
   "cell_type": "code",
   "execution_count": null,
   "metadata": {},
   "outputs": [],
   "source": [
    "# Loading Saffir Simpson Dataset\n",
    "storm_ss_df = pd.read_csv(\"../data/storm_ss_norm.csv\")\n",
    "storm_ss_df[\"cost_category_num\"] = storm_ss_df.cost_category.astype('category').cat.codes\n",
    "storm_ss_df = storm_ss_df.fillna(0)\n",
    "storm_ss_df.info()"
   ]
  },
  {
   "cell_type": "code",
   "execution_count": null,
   "metadata": {},
   "outputs": [],
   "source": [
    "# X_ss -> features\n",
    "# y_ss -> labels\n",
    "\n",
    "X_ss = storm_ss_df.drop(columns={\"storm_names\",\"norm_cost\",\"cost_category\",\"cost_category_num\"})\n",
    "y_ss = storm_ss_df.cost_category_num\n",
    "classes = storm_ss_df.cost_category"
   ]
  },
  {
   "cell_type": "markdown",
   "metadata": {},
   "source": [
    "## Classifiers"
   ]
  },
  {
   "cell_type": "code",
   "execution_count": null,
   "metadata": {},
   "outputs": [],
   "source": [
    "# Dividing X, y into train and test data by 80 events and 35 events \n",
    "X_train, X_test, y_train, y_test = train_test_split(X_ss, y_ss, test_size=0.33, random_state = 42) "
   ]
  },
  {
   "cell_type": "code",
   "execution_count": null,
   "metadata": {
    "scrolled": false
   },
   "outputs": [],
   "source": [
    "ss_acc = []\n",
    "ss_mse = []\n",
    "\n",
    "names_ss = []\n",
    "i = 0\n",
    "\n",
    "while i < 30:\n",
    "    # Dividing X, y into train and test data by 80 events and 35 events \n",
    "    X_train, X_test, y_train, y_test = train_test_split(X_ss, y_ss, test_size=0.33, random_state = 42) \n",
    "\n",
    "    for name, model in classifiers:\n",
    "        names.append(name) \n",
    "\n",
    "        model.fit(X_train, y_train)\n",
    "        y_pred= model.predict(X_test)\n",
    "\n",
    "        acc = accuracy_score(y_test, y_pred)\n",
    "        #print(\"Model:\\n%s\\n\\nAccuracy:\\n%s\\n\"%(name, acc*100))\n",
    "        ss_acc.append([name, acc])\n",
    "\n",
    "        mse = mean_squared_error(y_test, y_pred)\n",
    "        #print(\"Mean Squared Error:\\n%s\\n\"%(mse))\n",
    "        ss_mse.append([name, mse])\n",
    "        \n",
    "    i = i + 1\n",
    "print(\"Done.\")"
   ]
  },
  {
   "cell_type": "code",
   "execution_count": null,
   "metadata": {},
   "outputs": [],
   "source": [
    "df_acc_ss = pd.DataFrame(ss_acc, columns = {\"names\", \"acc\"})"
   ]
  },
  {
   "cell_type": "code",
   "execution_count": null,
   "metadata": {},
   "outputs": [],
   "source": [
    "df_acc_ss.groupby(df_acc_ss.acc).describe()"
   ]
  },
  {
   "cell_type": "code",
   "execution_count": null,
   "metadata": {},
   "outputs": [],
   "source": [
    "df_mse_ss = pd.DataFrame(ss_mse, columns = {\"names\", \"mse\"})"
   ]
  },
  {
   "cell_type": "code",
   "execution_count": null,
   "metadata": {},
   "outputs": [],
   "source": [
    "df_mse_ss.groupby(df_mse_ss.mse).describe()"
   ]
  },
  {
   "cell_type": "markdown",
   "metadata": {},
   "source": [
    "# Comparing results"
   ]
  },
  {
   "cell_type": "code",
   "execution_count": null,
   "metadata": {},
   "outputs": [],
   "source": [
    "ax = df_mse_ss.groupby(df_mse_ss.mse).mean().plot(figsize=(10,5), grid=True)\n",
    "df_mse.groupby(df_mse_ss.mse).mean().plot(figsize=(10,5), grid=True, ax=ax)\n",
    "ax.legend(['SS MSE', 'RL MSE'])"
   ]
  },
  {
   "cell_type": "code",
   "execution_count": null,
   "metadata": {},
   "outputs": [],
   "source": [
    "ax = df_acc_ss.groupby(df_acc_ss.acc).mean().plot(figsize=(10,5), grid=True)\n",
    "df_acc.groupby(df_acc_ss.acc).mean().plot(figsize=(10,5), grid=True, ax=ax)\n",
    "ax.legend(['SS ACC', 'RL ACC'])"
   ]
  },
  {
   "cell_type": "code",
   "execution_count": null,
   "metadata": {},
   "outputs": [],
   "source": [
    "# plot roc curve\n",
    "from sklearn.metrics import roc_curve, auc\n",
    "\n",
    "#f2 score rf\n",
    "y_base = np.zeros(100945)\n",
    "fig, ax = plt.subplots()\n",
    "random = model\n",
    "y_score=random.predict_proba(X_test)[:,1]\n",
    "fpr, tpr, thresholds = roc_curve(y_test, y_score)\n",
    "roc_auc = auc(fpr, tpr)\n",
    "plt.plot(fpr, tpr)\n",
    "print(f'Area under curve: {roc_auc}')\n",
    "\n",
    "# Plotting Baseline..\n",
    "plt.plot([0,1],[0,1], color = 'blue')\n",
    "\n",
    "ax.set_xlabel('FPR')\n",
    "ax.set_ylabel('Recall');"
   ]
  },
  {
   "cell_type": "code",
   "execution_count": null,
   "metadata": {},
   "outputs": [],
   "source": [
    "from sklearn.metrics import precision_recall_curve\n",
    "\n",
    "#f1 score lr\n",
    "random = random_models[3]\n",
    "y_base = np.zeros(100945)\n",
    "\n",
    "y_score=random.predict_proba(X_test)[:,1]\n",
    "precision, recall, thresholds = precision_recall_curve(y_test, y_score)\n",
    "# prc_auc = auc(fpr, tpr)\n",
    "precision_base, recall_base, _ = precision_recall_curve(y_test, y_base)\n",
    "\n",
    "# Plotting our Baseline..\n",
    "fig, ax = plt.subplots()\n",
    "plt.plot(precision_base, recall_base) #baseline model\n",
    "plt.plot(precision, recall)\n",
    "# sns.lineplot(fpr_base, tpr_base)\n",
    "ax.set_xlabel('Precision')\n",
    "ax.set_ylabel('Recall');\n",
    "# print(f'Area under curve: {prc_auc}')"
   ]
  },
  {
   "cell_type": "code",
   "execution_count": null,
   "metadata": {},
   "outputs": [],
   "source": []
  }
 ],
 "metadata": {
  "hide_input": false,
  "kernelspec": {
   "display_name": "Python 3",
   "language": "python",
   "name": "python3"
  },
  "language_info": {
   "codemirror_mode": {
    "name": "ipython",
    "version": 3
   },
   "file_extension": ".py",
   "mimetype": "text/x-python",
   "name": "python",
   "nbconvert_exporter": "python",
   "pygments_lexer": "ipython3",
   "version": "3.6.8"
  },
  "latex_envs": {
   "LaTeX_envs_menu_present": true,
   "autoclose": false,
   "autocomplete": true,
   "bibliofile": "biblio.bib",
   "cite_by": "apalike",
   "current_citInitial": 1,
   "eqLabelWithNumbers": true,
   "eqNumInitial": 1,
   "hotkeys": {
    "equation": "Ctrl-E",
    "itemize": "Ctrl-I"
   },
   "labels_anchors": false,
   "latex_user_defs": false,
   "report_style_numbering": false,
   "user_envs_cfg": false
  },
  "toc": {
   "base_numbering": 1,
   "nav_menu": {},
   "number_sections": true,
   "sideBar": true,
   "skip_h1_title": false,
   "title_cell": "Table of Contents",
   "title_sidebar": "Contents",
   "toc_cell": false,
   "toc_position": {},
   "toc_section_display": true,
   "toc_window_display": false
  }
 },
 "nbformat": 4,
 "nbformat_minor": 2
}
